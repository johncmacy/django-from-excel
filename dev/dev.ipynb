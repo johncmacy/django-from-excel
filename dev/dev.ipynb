{
 "cells": [
  {
   "cell_type": "code",
   "execution_count": null,
   "source": [
    "from django_from_excel.management.commands.buildfrom import Converter\n",
    "\n",
    "Converter('fleet2.xlsx', 'app', overwrite=True, migrate=True, loaddata=True, dev_mode=True).convert()\n",
    "\n",
    "\n",
    "\n"
   ],
   "outputs": [],
   "metadata": {}
  }
 ],
 "metadata": {
  "orig_nbformat": 4,
  "language_info": {
   "name": "python",
   "version": "3.9.6",
   "mimetype": "text/x-python",
   "codemirror_mode": {
    "name": "ipython",
    "version": 3
   },
   "pygments_lexer": "ipython3",
   "nbconvert_exporter": "python",
   "file_extension": ".py"
  },
  "kernelspec": {
   "name": "python3",
   "display_name": "Python 3.9.6 64-bit ('.venv': poetry)"
  },
  "interpreter": {
   "hash": "1757d46778322a305ed2bc3811cda67b494a3ad025714c6e8e47c40a2da2599a"
  }
 },
 "nbformat": 4,
 "nbformat_minor": 2
}
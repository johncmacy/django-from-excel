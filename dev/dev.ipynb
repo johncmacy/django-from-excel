{
 "cells": [
  {
   "cell_type": "code",
   "execution_count": 1,
   "source": [
    "from django_from_excel.management.commands.buildfrom import Converter\r\n",
    "\r\n",
    "Converter('fleet.xlsx', 'app', overwrite=True).convert()\r\n",
    "\r\n",
    "\r\n",
    "\r\n"
   ],
   "outputs": [
    {
     "output_type": "stream",
     "name": "stdout",
     "text": [
      "Generated models in app\\models.py\n",
      "Registered models in app\\admin.py\n",
      "Created fixture in app\\fixtures\\convertedmodel.json\n",
      "Complete.\n",
      "Run [manage.py makemigrations], then [manage.py migrate] to commit these models to your database schema.\n",
      "Run [manage.py loaddata convertedmodel.json] to add the data your database.\n"
     ]
    }
   ],
   "metadata": {}
  }
 ],
 "metadata": {
  "orig_nbformat": 4,
  "language_info": {
   "name": "python",
   "version": "3.9.0",
   "mimetype": "text/x-python",
   "codemirror_mode": {
    "name": "ipython",
    "version": 3
   },
   "pygments_lexer": "ipython3",
   "nbconvert_exporter": "python",
   "file_extension": ".py"
  },
  "kernelspec": {
   "name": "python3",
   "display_name": "Python 3.9.0 64-bit ('.venv': poetry)"
  },
  "interpreter": {
   "hash": "5c2aa7bbc64039e2b8875470e911a7ba7609b4203892a2689416f69aaf41ef16"
  }
 },
 "nbformat": 4,
 "nbformat_minor": 2
}